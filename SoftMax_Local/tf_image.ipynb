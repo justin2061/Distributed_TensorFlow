{
 "cells": [
  {
   "cell_type": "code",
   "execution_count": 1,
   "metadata": {
    "collapsed": true
   },
   "outputs": [],
   "source": [
    "import tensorflow as tf\n",
    "from scipy.misc import imread"
   ]
  },
  {
   "cell_type": "code",
   "execution_count": 2,
   "metadata": {
    "collapsed": true
   },
   "outputs": [],
   "source": [
    "%matplotlib inline\n",
    "import matplotlib.pyplot as plt\n",
    "import matplotlib.image as mpimg\n",
    "import numpy as np"
   ]
  },
  {
   "cell_type": "code",
   "execution_count": 3,
   "metadata": {
    "collapsed": false
   },
   "outputs": [
    {
     "data": {
      "text/plain": [
       "array([[152, 153, 152, ..., 143, 143, 143],\n",
       "       [154, 152, 153, ..., 144, 142, 143],\n",
       "       [153, 153, 153, ..., 142, 142, 143],\n",
       "       ..., \n",
       "       [139, 140, 139, ..., 130, 131, 131],\n",
       "       [138, 137, 138, ..., 131, 128, 128],\n",
       "       [139, 139, 139, ..., 130, 129, 129]], dtype=uint8)"
      ]
     },
     "execution_count": 3,
     "metadata": {},
     "output_type": "execute_result"
    }
   ],
   "source": [
    "image = imread('8.jpg', mode='L')\n",
    "image"
   ]
  },
  {
   "cell_type": "code",
   "execution_count": 4,
   "metadata": {
    "collapsed": true
   },
   "outputs": [],
   "source": [
    "sess = tf.InteractiveSession()"
   ]
  },
  {
   "cell_type": "code",
   "execution_count": 5,
   "metadata": {
    "collapsed": false
   },
   "outputs": [
    {
     "data": {
      "text/plain": [
       "TensorShape([Dimension(250), Dimension(250)])"
      ]
     },
     "execution_count": 5,
     "metadata": {},
     "output_type": "execute_result"
    }
   ],
   "source": [
    "img = tf.constant(image)\n",
    "img.shape\n"
   ]
  },
  {
   "cell_type": "code",
   "execution_count": 6,
   "metadata": {
    "collapsed": false,
    "scrolled": false
   },
   "outputs": [
    {
     "data": {
      "text/plain": [
       "array([[152, 153, 152, ..., 143, 143, 143],\n",
       "       [154, 152, 153, ..., 144, 142, 143],\n",
       "       [153, 153, 153, ..., 142, 142, 143],\n",
       "       ..., \n",
       "       [139, 140, 139, ..., 130, 131, 131],\n",
       "       [138, 137, 138, ..., 131, 128, 128],\n",
       "       [139, 139, 139, ..., 130, 129, 129]], dtype=uint8)"
      ]
     },
     "execution_count": 6,
     "metadata": {},
     "output_type": "execute_result"
    }
   ],
   "source": [
    "img.eval()"
   ]
  },
  {
   "cell_type": "code",
   "execution_count": 7,
   "metadata": {
    "collapsed": false,
    "scrolled": true
   },
   "outputs": [
    {
     "data": {
      "text/plain": [
       "TensorShape([Dimension(250), Dimension(250), Dimension(1)])"
      ]
     },
     "execution_count": 7,
     "metadata": {},
     "output_type": "execute_result"
    }
   ],
   "source": [
    "img2 = tf.expand_dims(img, -1)\n",
    "img2.shape\n",
    "# img2.eval()"
   ]
  },
  {
   "cell_type": "code",
   "execution_count": 8,
   "metadata": {
    "collapsed": false
   },
   "outputs": [
    {
     "data": {
      "text/plain": [
       "<tf.Tensor 'Squeeze:0' shape=(28, 28, 1) dtype=float32>"
      ]
     },
     "execution_count": 8,
     "metadata": {},
     "output_type": "execute_result"
    }
   ],
   "source": [
    "img_resize = tf.image.resize_images(img2, [28,28])\n",
    "img_resize\n",
    "# print(img_r.eval())"
   ]
  },
  {
   "cell_type": "code",
   "execution_count": 9,
   "metadata": {
    "collapsed": false,
    "scrolled": false
   },
   "outputs": [
    {
     "name": "stdout",
     "output_type": "stream",
     "text": [
      "[26.316339, 153.85715]\n",
      "[0.0, 1.0, 0.80284649]\n"
     ]
    },
    {
     "data": {
      "image/png": "[encoded data removed]",
      "text/plain": [
       "<matplotlib.figure.Figure at 0x7f2366636210>"
      ]
     },
     "metadata": {},
     "output_type": "display_data"
    }
   ],
   "source": [
    "# show standardized image\n",
    "# use naive method\n",
    "img_max = tf.reduce_max(img_resize)\n",
    "img_min = tf.reduce_min(img_resize)\n",
    "print ([img_min.eval(), img_max.eval()])\n",
    "\n",
    "std_img = tf.div( tf.subtract( img_resize, img_min), tf.subtract(img_max, img_min) )\n",
    "print ([tf.reduce_min(std_img).eval(), tf.reduce_max(std_img).eval(),  tf.reduce_mean(std_img).eval()])\n",
    "\n",
    "fig = plt.figure()\n",
    "a=fig.add_subplot(1,2,1)\n",
    "imgplot = plt.imshow(img_resize.eval()[:,:,0], cmap = 'gray')\n",
    "a=fig.add_subplot(1,2,2)\n",
    "imgplot = plt.imshow(std_img.eval()[:,:,0], cmap = 'gray')\n"
   ]
  },
  {
   "cell_type": "code",
   "execution_count": 10,
   "metadata": {
    "collapsed": false
   },
   "outputs": [
    {
     "data": {
      "image/png": "[encoded data removed]",
      "text/plain": [
       "<matplotlib.figure.Figure at 0x7f236662fdd0>"
      ]
     },
     "metadata": {},
     "output_type": "display_data"
    }
   ],
   "source": [
    "# show binarized image\n",
    "# use naive method (the contrast adjustment in TF is not useful)\n",
    "\n",
    "# then inverse the image\n",
    "\n",
    "bin_img = tf.ceil( tf.subtract(std_img, 0.7) )\n",
    "\n",
    "inv_img = tf.abs( tf.subtract(bin_img, 1) )\n",
    "\n",
    "fig = plt.figure()\n",
    "a=fig.add_subplot(1,3,1)\n",
    "imgplot = plt.imshow(img_resize.eval()[:,:,0], cmap = 'gray')\n",
    "a=fig.add_subplot(1,3,2)\n",
    "imgplot = plt.imshow(bin_img.eval()[:,:,0], cmap = 'gray')\n",
    "a=fig.add_subplot(1,3,3)\n",
    "imgplot = plt.imshow(inv_img.eval()[:,:,0], cmap = 'gray')"
   ]
  },
  {
   "cell_type": "code",
   "execution_count": 11,
   "metadata": {
    "collapsed": false
   },
   "outputs": [],
   "source": [
    "# reshape img tensor to vector\n",
    "input_img = tf.reshape(inv_img, [1, 784])\n",
    "# print input_img.eval()"
   ]
  },
  {
   "cell_type": "code",
   "execution_count": null,
   "metadata": {
    "collapsed": true
   },
   "outputs": [],
   "source": []
  },
  {
   "cell_type": "code",
   "execution_count": null,
   "metadata": {
    "collapsed": true
   },
   "outputs": [],
   "source": [
    "# it works in terminal, but not in notebook\n",
    "x = tf.placeholder(tf.float32, [None, 784], name=\"input\")\n",
    "W = tf.Variable(tf.zeros([784, 10]), name = \"w1\")\n",
    "b = tf.Variable(tf.zeros([10]), name = \"b1\")\n",
    "y = tf.nn.softmax(tf.matmul(x, W) + b)\n",
    "\n",
    "# swd--save the Checkpoint file\n",
    "saver = tf.train.Saver()\n",
    "with tf.Session() as sess:\n",
    "    # swd save ckpt\n",
    "    saver.restore(sess, \"saved_model/model.ckpt\")\n",
    "    print(\"Model restored.\")\n",
    "    np.set_printoptions(precision = 2)\n",
    "    result=sess.run(y,feed_dict={x: img})\n",
    "    # result=sess.run(y,  feed_dict={x: input_img.eval()})\n",
    "    print(result)\n",
    "    print('The number is: '+str(np.argmax(result)))\n",
    "    \n",
    "end=time.time()\n",
    "print (\"Computing time: \"+str(end-start)+\" seconds\")\n"
   ]
  },
  {
   "cell_type": "code",
   "execution_count": null,
   "metadata": {
    "collapsed": true
   },
   "outputs": [],
   "source": []
  },
  {
   "cell_type": "code",
   "execution_count": null,
   "metadata": {
    "collapsed": true
   },
   "outputs": [],
   "source": []
  },
  {
   "cell_type": "code",
   "execution_count": null,
   "metadata": {
    "collapsed": true
   },
   "outputs": [],
   "source": []
  },
  {
   "cell_type": "code",
   "execution_count": null,
   "metadata": {
    "collapsed": true
   },
   "outputs": [],
   "source": []
  },
  {
   "cell_type": "code",
   "execution_count": null,
   "metadata": {
    "collapsed": true
   },
   "outputs": [],
   "source": []
  },
  {
   "cell_type": "code",
   "execution_count": 47,
   "metadata": {
    "collapsed": false,
    "scrolled": true
   },
   "outputs": [
    {
     "name": "stdout",
     "output_type": "stream",
     "text": [
      "(250, 250, 1)\n",
      "[[[152]\n",
      "  [153]\n",
      "  [152]\n",
      "  ..., \n",
      "  [143]\n",
      "  [143]\n",
      "  [143]]\n",
      "\n",
      " [[154]\n",
      "  [152]\n",
      "  [153]\n",
      "  ..., \n",
      "  [144]\n",
      "  [143]\n",
      "  [144]]\n",
      "\n",
      " [[153]\n",
      "  [153]\n",
      "  [153]\n",
      "  ..., \n",
      "  [143]\n",
      "  [142]\n",
      "  [143]]\n",
      "\n",
      " ..., \n",
      " [[140]\n",
      "  [139]\n",
      "  [139]\n",
      "  ..., \n",
      "  [130]\n",
      "  [131]\n",
      "  [131]]\n",
      "\n",
      " [[138]\n",
      "  [138]\n",
      "  [139]\n",
      "  ..., \n",
      "  [131]\n",
      "  [128]\n",
      "  [128]]\n",
      "\n",
      " [[139]\n",
      "  [139]\n",
      "  [140]\n",
      "  ..., \n",
      "  [130]\n",
      "  [129]\n",
      "  [129]]]\n"
     ]
    }
   ],
   "source": [
    "# About input png images:\n",
    "fn = '8.png'\n",
    "with tf.Graph().as_default():\n",
    "    image_contents = tf.read_file(fn)\n",
    "    image = tf.image.decode_image(image_contents, channels=1)\n",
    "    init_op = tf.tables_initializer()\n",
    "    with tf.Session() as sess:\n",
    "        sess.run(init_op)\n",
    "        print(image.eval().shape)\n",
    "        print(image.eval())"
   ]
  },
  {
   "cell_type": "code",
   "execution_count": null,
   "metadata": {
    "collapsed": true
   },
   "outputs": [],
   "source": []
  },
  {
   "cell_type": "code",
   "execution_count": null,
   "metadata": {
    "collapsed": true
   },
   "outputs": [],
   "source": []
  },
  {
   "cell_type": "code",
   "execution_count": null,
   "metadata": {
    "collapsed": true
   },
   "outputs": [],
   "source": []
  },
  {
   "cell_type": "code",
   "execution_count": 227,
   "metadata": {
    "collapsed": false,
    "scrolled": true
   },
   "outputs": [
    {
     "data": {
      "image/png": "[encoded data removed]",
      "text/plain": [
       "<matplotlib.figure.Figure at 0x7f277684a410>"
      ]
     },
     "metadata": {},
     "output_type": "display_data"
    }
   ],
   "source": [
    "# RGB image example\n",
    "\n",
    "fn = 'laska.png'\n",
    "with tf.Graph().as_default():\n",
    "    image_contents = tf.read_file(fn)\n",
    "    image = tf.image.decode_image(image_contents, channels=3)\n",
    "#     init_op = tf.initialize_all_tables()\n",
    "    sess = tf.InteractiveSession()\n",
    "#     with tf.Session() as sess:\n",
    "#         sess.run(init_op)\n",
    "#         tmp = sess.run(image)\n",
    "#         print tmp.shape\n",
    "\n",
    "\n",
    "    ct_img = tf.image.adjust_contrast(image,99999999999)\n",
    "    save_img = ct_img.eval()\n",
    "    plt.imshow(save_img)\n",
    "    \n",
    "#     ct_img = tf.image.adjust_brightness(image, 0.5)\n",
    "#     save_img = ct_img.eval()\n",
    "#     plt.imshow(save_img)\n",
    "    "
   ]
  },
  {
   "cell_type": "code",
   "execution_count": 349,
   "metadata": {
    "collapsed": false
   },
   "outputs": [
    {
     "data": {
      "image/png": "[encoded data removed]",
      "text/plain": [
       "<matplotlib.figure.Figure at 0x7f2774ea2290>"
      ]
     },
     "metadata": {},
     "output_type": "display_data"
    }
   ],
   "source": [
    "# constrast adjustment\n",
    "# useless!!! \n",
    "ct_img = tf.image.adjust_contrast(std_img, 99)\n",
    "ct_img2 = tf.clip_by_value(ct_img, 0, 255)\n",
    "# ct_img2 = tf.cast(ct_img2, tf.uint8)\n",
    "\n",
    "fig = plt.figure()\n",
    "a=fig.add_subplot(1,2,1)\n",
    "imgplot = plt.imshow(std_img.eval()[:,:,0], cmap = 'gray')\n",
    "a=fig.add_subplot(1,2,2)\n",
    "imgplot = plt.imshow(ct_img2.eval()[:,:,0], cmap = 'gray')"
   ]
  },
  {
   "cell_type": "code",
   "execution_count": 376,
   "metadata": {
    "collapsed": false
   },
   "outputs": [
    {
     "data": {
      "image/png": "[encoded data removed]",
      "text/plain": [
       "<matplotlib.figure.Figure at 0x7f2774cb39d0>"
      ]
     },
     "metadata": {},
     "output_type": "display_data"
    }
   ],
   "source": [
    "std_img = tf.image.per_image_standardization(img_r)\n",
    "# show standardized image\n",
    "# not useful at all!!!!!!!!!!!!!\n",
    "\n",
    "fig = plt.figure()\n",
    "a=fig.add_subplot(1,2,1)\n",
    "imgplot = plt.imshow(img_resize.eval()[:,:,0], cmap = 'gray')\n",
    "a=fig.add_subplot(1,2,2)\n",
    "imgplot = plt.imshow(std_img.eval()[:,:,0], cmap = 'gray')"
   ]
  }
 ],
 "metadata": {
  "kernelspec": {
   "display_name": "Python 2",
   "language": "python",
   "name": "python2"
  },
  "language_info": {
   "codemirror_mode": {
    "name": "ipython",
    "version": 2
   },
   "file_extension": ".py",
   "mimetype": "text/x-python",
   "name": "python",
   "nbconvert_exporter": "python",
   "pygments_lexer": "ipython2",
   "version": "2.7.13"
  }
 },
 "nbformat": 4,
 "nbformat_minor": 2
}
